{
 "cells": [
  {
   "cell_type": "markdown",
   "id": "295bba37",
   "metadata": {},
   "source": [
    "### Importing Modules and Loading Dataset"
   ]
  },
  {
   "cell_type": "code",
   "execution_count": 2,
   "id": "54b28ec5",
   "metadata": {
    "scrolled": true
   },
   "outputs": [
    {
     "data": {
      "text/html": [
       "<div>\n",
       "<style scoped>\n",
       "    .dataframe tbody tr th:only-of-type {\n",
       "        vertical-align: middle;\n",
       "    }\n",
       "\n",
       "    .dataframe tbody tr th {\n",
       "        vertical-align: top;\n",
       "    }\n",
       "\n",
       "    .dataframe thead th {\n",
       "        text-align: right;\n",
       "    }\n",
       "</style>\n",
       "<table border=\"1\" class=\"dataframe\">\n",
       "  <thead>\n",
       "    <tr style=\"text-align: right;\">\n",
       "      <th></th>\n",
       "      <th>id</th>\n",
       "      <th>title</th>\n",
       "      <th>type</th>\n",
       "      <th>description</th>\n",
       "      <th>release_year</th>\n",
       "      <th>age_certification</th>\n",
       "      <th>runtime</th>\n",
       "      <th>genres</th>\n",
       "      <th>production_countries</th>\n",
       "      <th>seasons</th>\n",
       "      <th>imdb_id</th>\n",
       "      <th>imdb_score</th>\n",
       "      <th>imdb_votes</th>\n",
       "      <th>tmdb_popularity</th>\n",
       "      <th>tmdb_score</th>\n",
       "    </tr>\n",
       "  </thead>\n",
       "  <tbody>\n",
       "    <tr>\n",
       "      <th>0</th>\n",
       "      <td>ts300399</td>\n",
       "      <td>Five Came Back: The Reference Films</td>\n",
       "      <td>SHOW</td>\n",
       "      <td>This collection includes 12 World War II-era p...</td>\n",
       "      <td>1945</td>\n",
       "      <td>TV-MA</td>\n",
       "      <td>51</td>\n",
       "      <td>['documentation']</td>\n",
       "      <td>['US']</td>\n",
       "      <td>1.0</td>\n",
       "      <td>NaN</td>\n",
       "      <td>NaN</td>\n",
       "      <td>NaN</td>\n",
       "      <td>0.600</td>\n",
       "      <td>NaN</td>\n",
       "    </tr>\n",
       "    <tr>\n",
       "      <th>1</th>\n",
       "      <td>tm84618</td>\n",
       "      <td>Taxi Driver</td>\n",
       "      <td>MOVIE</td>\n",
       "      <td>A mentally unstable Vietnam War veteran works ...</td>\n",
       "      <td>1976</td>\n",
       "      <td>R</td>\n",
       "      <td>114</td>\n",
       "      <td>['drama', 'crime']</td>\n",
       "      <td>['US']</td>\n",
       "      <td>NaN</td>\n",
       "      <td>tt0075314</td>\n",
       "      <td>8.2</td>\n",
       "      <td>808582.0</td>\n",
       "      <td>40.965</td>\n",
       "      <td>8.179</td>\n",
       "    </tr>\n",
       "    <tr>\n",
       "      <th>2</th>\n",
       "      <td>tm154986</td>\n",
       "      <td>Deliverance</td>\n",
       "      <td>MOVIE</td>\n",
       "      <td>Intent on seeing the Cahulawassee River before...</td>\n",
       "      <td>1972</td>\n",
       "      <td>R</td>\n",
       "      <td>109</td>\n",
       "      <td>['drama', 'action', 'thriller', 'european']</td>\n",
       "      <td>['US']</td>\n",
       "      <td>NaN</td>\n",
       "      <td>tt0068473</td>\n",
       "      <td>7.7</td>\n",
       "      <td>107673.0</td>\n",
       "      <td>10.010</td>\n",
       "      <td>7.300</td>\n",
       "    </tr>\n",
       "  </tbody>\n",
       "</table>\n",
       "</div>"
      ],
      "text/plain": [
       "         id                                title   type                                        description  release_year age_certification  runtime                                       genres production_countries  seasons    imdb_id  imdb_score  imdb_votes  tmdb_popularity  tmdb_score\n",
       "0  ts300399  Five Came Back: The Reference Films   SHOW  This collection includes 12 World War II-era p...          1945             TV-MA       51                            ['documentation']               ['US']      1.0        NaN         NaN         NaN            0.600         NaN\n",
       "1   tm84618                          Taxi Driver  MOVIE  A mentally unstable Vietnam War veteran works ...          1976                 R      114                           ['drama', 'crime']               ['US']      NaN  tt0075314         8.2    808582.0           40.965       8.179\n",
       "2  tm154986                          Deliverance  MOVIE  Intent on seeing the Cahulawassee River before...          1972                 R      109  ['drama', 'action', 'thriller', 'european']               ['US']      NaN  tt0068473         7.7    107673.0           10.010       7.300"
      ]
     },
     "execution_count": 2,
     "metadata": {},
     "output_type": "execute_result"
    }
   ],
   "source": [
    "import numpy as np # linear algebra\n",
    "import pandas as pd # data processing\n",
    "import matplotlib.pyplot as plt #plotting\n",
    "import seaborn as sns\n",
    "import math\n",
    "\n",
    "pd.set_option('display.max_columns', None)\n",
    "pd.set_option('display.width', 500)\n",
    "\n",
    "df = pd.read_csv('titles.csv')\n",
    "df.head(3)\n"
   ]
  },
  {
   "cell_type": "markdown",
   "id": "483210db",
   "metadata": {},
   "source": [
    "### Information About Dataset"
   ]
  },
  {
   "cell_type": "code",
   "execution_count": 3,
   "id": "ee7d186e",
   "metadata": {},
   "outputs": [
    {
     "data": {
      "text/html": [
       "<div>\n",
       "<style scoped>\n",
       "    .dataframe tbody tr th:only-of-type {\n",
       "        vertical-align: middle;\n",
       "    }\n",
       "\n",
       "    .dataframe tbody tr th {\n",
       "        vertical-align: top;\n",
       "    }\n",
       "\n",
       "    .dataframe thead th {\n",
       "        text-align: right;\n",
       "    }\n",
       "</style>\n",
       "<table border=\"1\" class=\"dataframe\">\n",
       "  <thead>\n",
       "    <tr style=\"text-align: right;\">\n",
       "      <th></th>\n",
       "      <th>Total Rows</th>\n",
       "      <th>Total Columns</th>\n",
       "    </tr>\n",
       "  </thead>\n",
       "  <tbody>\n",
       "    <tr>\n",
       "      <th></th>\n",
       "      <td>5850</td>\n",
       "      <td>15</td>\n",
       "    </tr>\n",
       "  </tbody>\n",
       "</table>\n",
       "</div>"
      ],
      "text/plain": [
       "  Total Rows  Total Columns\n",
       "        5850             15"
      ]
     },
     "execution_count": 3,
     "metadata": {},
     "output_type": "execute_result"
    }
   ],
   "source": [
    "# Row and Column Counts\n",
    "\n",
    "shape = pd.DataFrame({\"Total Rows\": [df.shape[0]],\n",
    "                      \"Total Columns\": [df.shape[1]]\n",
    "                     },index=[\"\"]\n",
    "                    )\n",
    "shape"
   ]
  },
  {
   "cell_type": "code",
   "execution_count": 4,
   "id": "fe1280aa",
   "metadata": {
    "scrolled": false
   },
   "outputs": [
    {
     "name": "stdout",
     "output_type": "stream",
     "text": [
      "<class 'pandas.core.frame.DataFrame'>\n",
      "RangeIndex: 5850 entries, 0 to 5849\n",
      "Data columns (total 15 columns):\n",
      " #   Column                Non-Null Count  Dtype  \n",
      "---  ------                --------------  -----  \n",
      " 0   id                    5850 non-null   object \n",
      " 1   title                 5849 non-null   object \n",
      " 2   type                  5850 non-null   object \n",
      " 3   description           5832 non-null   object \n",
      " 4   release_year          5850 non-null   int64  \n",
      " 5   age_certification     3231 non-null   object \n",
      " 6   runtime               5850 non-null   int64  \n",
      " 7   genres                5850 non-null   object \n",
      " 8   production_countries  5850 non-null   object \n",
      " 9   seasons               2106 non-null   float64\n",
      " 10  imdb_id               5447 non-null   object \n",
      " 11  imdb_score            5368 non-null   float64\n",
      " 12  imdb_votes            5352 non-null   float64\n",
      " 13  tmdb_popularity       5759 non-null   float64\n",
      " 14  tmdb_score            5539 non-null   float64\n",
      "dtypes: float64(5), int64(2), object(8)\n",
      "memory usage: 685.7+ KB\n"
     ]
    }
   ],
   "source": [
    "# Data types\n",
    "\n",
    "df.info() "
   ]
  },
  {
   "cell_type": "code",
   "execution_count": 5,
   "id": "17c714d0",
   "metadata": {
    "scrolled": false
   },
   "outputs": [
    {
     "data": {
      "text/plain": [
       "id                         0\n",
       "title                      1\n",
       "type                       0\n",
       "description               18\n",
       "release_year               0\n",
       "age_certification       2619\n",
       "runtime                    0\n",
       "genres                     0\n",
       "production_countries       0\n",
       "seasons                 3744\n",
       "imdb_id                  403\n",
       "imdb_score               482\n",
       "imdb_votes               498\n",
       "tmdb_popularity           91\n",
       "tmdb_score               311\n",
       "dtype: int64"
      ]
     },
     "execution_count": 5,
     "metadata": {},
     "output_type": "execute_result"
    }
   ],
   "source": [
    "# Counts of Null Values\n",
    "\n",
    "df.isna().sum()"
   ]
  },
  {
   "cell_type": "markdown",
   "id": "1a6b6ca9",
   "metadata": {},
   "source": [
    "### Cleaning Data"
   ]
  },
  {
   "cell_type": "code",
   "execution_count": 6,
   "id": "fbbf3a6a",
   "metadata": {},
   "outputs": [
    {
     "data": {
      "text/html": [
       "<div>\n",
       "<style scoped>\n",
       "    .dataframe tbody tr th:only-of-type {\n",
       "        vertical-align: middle;\n",
       "    }\n",
       "\n",
       "    .dataframe tbody tr th {\n",
       "        vertical-align: top;\n",
       "    }\n",
       "\n",
       "    .dataframe thead th {\n",
       "        text-align: right;\n",
       "    }\n",
       "</style>\n",
       "<table border=\"1\" class=\"dataframe\">\n",
       "  <thead>\n",
       "    <tr style=\"text-align: right;\">\n",
       "      <th></th>\n",
       "      <th>title</th>\n",
       "      <th>type</th>\n",
       "      <th>release_year</th>\n",
       "      <th>age_certification</th>\n",
       "      <th>runtime</th>\n",
       "      <th>genres</th>\n",
       "      <th>production_countries</th>\n",
       "      <th>seasons</th>\n",
       "      <th>imdb_score</th>\n",
       "      <th>imdb_votes</th>\n",
       "      <th>tmdb_popularity</th>\n",
       "    </tr>\n",
       "  </thead>\n",
       "  <tbody>\n",
       "    <tr>\n",
       "      <th>0</th>\n",
       "      <td>Five Came Back: The Reference Films</td>\n",
       "      <td>SHOW</td>\n",
       "      <td>1945</td>\n",
       "      <td>TV-MA</td>\n",
       "      <td>51</td>\n",
       "      <td>['documentation']</td>\n",
       "      <td>['US']</td>\n",
       "      <td>1.0</td>\n",
       "      <td>NaN</td>\n",
       "      <td>NaN</td>\n",
       "      <td>0.600</td>\n",
       "    </tr>\n",
       "    <tr>\n",
       "      <th>1</th>\n",
       "      <td>Taxi Driver</td>\n",
       "      <td>MOVIE</td>\n",
       "      <td>1976</td>\n",
       "      <td>R</td>\n",
       "      <td>114</td>\n",
       "      <td>['drama', 'crime']</td>\n",
       "      <td>['US']</td>\n",
       "      <td>NaN</td>\n",
       "      <td>8.2</td>\n",
       "      <td>808582.0</td>\n",
       "      <td>40.965</td>\n",
       "    </tr>\n",
       "    <tr>\n",
       "      <th>2</th>\n",
       "      <td>Deliverance</td>\n",
       "      <td>MOVIE</td>\n",
       "      <td>1972</td>\n",
       "      <td>R</td>\n",
       "      <td>109</td>\n",
       "      <td>['drama', 'action', 'thriller', 'european']</td>\n",
       "      <td>['US']</td>\n",
       "      <td>NaN</td>\n",
       "      <td>7.7</td>\n",
       "      <td>107673.0</td>\n",
       "      <td>10.010</td>\n",
       "    </tr>\n",
       "  </tbody>\n",
       "</table>\n",
       "</div>"
      ],
      "text/plain": [
       "                                 title   type  release_year age_certification  runtime                                       genres production_countries  seasons  imdb_score  imdb_votes  tmdb_popularity\n",
       "0  Five Came Back: The Reference Films   SHOW          1945             TV-MA       51                            ['documentation']               ['US']      1.0         NaN         NaN            0.600\n",
       "1                          Taxi Driver  MOVIE          1976                 R      114                           ['drama', 'crime']               ['US']      NaN         8.2    808582.0           40.965\n",
       "2                          Deliverance  MOVIE          1972                 R      109  ['drama', 'action', 'thriller', 'european']               ['US']      NaN         7.7    107673.0           10.010"
      ]
     },
     "execution_count": 6,
     "metadata": {},
     "output_type": "execute_result"
    }
   ],
   "source": [
    "# Let's drop useless columns\n",
    "df = df.drop(['id', 'description', 'imdb_id', 'tmdb_score'], axis=1)\n",
    "df.head(3)"
   ]
  },
  {
   "cell_type": "code",
   "execution_count": 7,
   "id": "5efd18bd",
   "metadata": {},
   "outputs": [],
   "source": [
    "# Remove Null Values, Type Conversions and number's format changes\n",
    "df['seasons'] = df['seasons'].fillna(0)\n",
    "df['seasons'] = df['seasons'].astype(int)\n",
    "\n",
    "df['imdb_votes'].fillna(0, inplace=True)\n",
    "df['imdb_votes'].replace([np.inf, -np.inf], 0, inplace=True)\n",
    "df['imdb_votes'] = df['imdb_votes'].astype(int)\n",
    "df['imdb_votes'] = df['imdb_votes'].apply(lambda x: format(x, ','))\n",
    "\n",
    "df = df[df['imdb_score'].notna()]"
   ]
  },
  {
   "cell_type": "code",
   "execution_count": 8,
   "id": "b5e529e1",
   "metadata": {
    "scrolled": true
   },
   "outputs": [
    {
     "data": {
      "text/html": [
       "<div>\n",
       "<style scoped>\n",
       "    .dataframe tbody tr th:only-of-type {\n",
       "        vertical-align: middle;\n",
       "    }\n",
       "\n",
       "    .dataframe tbody tr th {\n",
       "        vertical-align: top;\n",
       "    }\n",
       "\n",
       "    .dataframe thead th {\n",
       "        text-align: right;\n",
       "    }\n",
       "</style>\n",
       "<table border=\"1\" class=\"dataframe\">\n",
       "  <thead>\n",
       "    <tr style=\"text-align: right;\">\n",
       "      <th></th>\n",
       "      <th>title</th>\n",
       "      <th>type</th>\n",
       "      <th>release_year</th>\n",
       "      <th>age_certification</th>\n",
       "      <th>runtime</th>\n",
       "      <th>genres</th>\n",
       "      <th>production_countries</th>\n",
       "      <th>seasons</th>\n",
       "      <th>imdb_score</th>\n",
       "      <th>imdb_votes</th>\n",
       "      <th>tmdb_popularity</th>\n",
       "    </tr>\n",
       "  </thead>\n",
       "  <tbody>\n",
       "    <tr>\n",
       "      <th>1</th>\n",
       "      <td>Taxi Driver</td>\n",
       "      <td>MOVIE</td>\n",
       "      <td>1976</td>\n",
       "      <td>R</td>\n",
       "      <td>114</td>\n",
       "      <td>['drama', 'crime']</td>\n",
       "      <td>['US']</td>\n",
       "      <td>0</td>\n",
       "      <td>8.2</td>\n",
       "      <td>808,582</td>\n",
       "      <td>40.965</td>\n",
       "    </tr>\n",
       "    <tr>\n",
       "      <th>2</th>\n",
       "      <td>Deliverance</td>\n",
       "      <td>MOVIE</td>\n",
       "      <td>1972</td>\n",
       "      <td>R</td>\n",
       "      <td>109</td>\n",
       "      <td>['drama', 'action', 'thriller', 'european']</td>\n",
       "      <td>['US']</td>\n",
       "      <td>0</td>\n",
       "      <td>7.7</td>\n",
       "      <td>107,673</td>\n",
       "      <td>10.010</td>\n",
       "    </tr>\n",
       "    <tr>\n",
       "      <th>3</th>\n",
       "      <td>Monty Python and the Holy Grail</td>\n",
       "      <td>MOVIE</td>\n",
       "      <td>1975</td>\n",
       "      <td>PG</td>\n",
       "      <td>91</td>\n",
       "      <td>['fantasy', 'action', 'comedy']</td>\n",
       "      <td>['GB']</td>\n",
       "      <td>0</td>\n",
       "      <td>8.2</td>\n",
       "      <td>534,486</td>\n",
       "      <td>15.461</td>\n",
       "    </tr>\n",
       "    <tr>\n",
       "      <th>4</th>\n",
       "      <td>The Dirty Dozen</td>\n",
       "      <td>MOVIE</td>\n",
       "      <td>1967</td>\n",
       "      <td>NaN</td>\n",
       "      <td>150</td>\n",
       "      <td>['war', 'action']</td>\n",
       "      <td>['GB', 'US']</td>\n",
       "      <td>0</td>\n",
       "      <td>7.7</td>\n",
       "      <td>72,662</td>\n",
       "      <td>20.398</td>\n",
       "    </tr>\n",
       "    <tr>\n",
       "      <th>5</th>\n",
       "      <td>Monty Python's Flying Circus</td>\n",
       "      <td>SHOW</td>\n",
       "      <td>1969</td>\n",
       "      <td>TV-14</td>\n",
       "      <td>30</td>\n",
       "      <td>['comedy', 'european']</td>\n",
       "      <td>['GB']</td>\n",
       "      <td>4</td>\n",
       "      <td>8.8</td>\n",
       "      <td>73,424</td>\n",
       "      <td>17.617</td>\n",
       "    </tr>\n",
       "  </tbody>\n",
       "</table>\n",
       "</div>"
      ],
      "text/plain": [
       "                             title   type  release_year age_certification  runtime                                       genres production_countries  seasons  imdb_score imdb_votes  tmdb_popularity\n",
       "1                      Taxi Driver  MOVIE          1976                 R      114                           ['drama', 'crime']               ['US']        0         8.2    808,582           40.965\n",
       "2                      Deliverance  MOVIE          1972                 R      109  ['drama', 'action', 'thriller', 'european']               ['US']        0         7.7    107,673           10.010\n",
       "3  Monty Python and the Holy Grail  MOVIE          1975                PG       91              ['fantasy', 'action', 'comedy']               ['GB']        0         8.2    534,486           15.461\n",
       "4                  The Dirty Dozen  MOVIE          1967               NaN      150                            ['war', 'action']         ['GB', 'US']        0         7.7     72,662           20.398\n",
       "5     Monty Python's Flying Circus   SHOW          1969             TV-14       30                       ['comedy', 'european']               ['GB']        4         8.8     73,424           17.617"
      ]
     },
     "execution_count": 8,
     "metadata": {},
     "output_type": "execute_result"
    }
   ],
   "source": [
    "df.head()"
   ]
  },
  {
   "cell_type": "code",
   "execution_count": 9,
   "id": "fa775f4d",
   "metadata": {
    "scrolled": true
   },
   "outputs": [
    {
     "data": {
      "text/plain": [
       "title                   5324\n",
       "type                       2\n",
       "release_year              62\n",
       "age_certification         11\n",
       "runtime                  198\n",
       "genres                  1695\n",
       "production_countries     427\n",
       "seasons                   27\n",
       "imdb_score                80\n",
       "imdb_votes              3881\n",
       "tmdb_popularity         4587\n",
       "dtype: int64"
      ]
     },
     "execution_count": 9,
     "metadata": {},
     "output_type": "execute_result"
    }
   ],
   "source": [
    "# Number of Unique Values of Each Column\n",
    "\n",
    "df.nunique()"
   ]
  },
  {
   "cell_type": "code",
   "execution_count": 10,
   "id": "6e55082b",
   "metadata": {
    "scrolled": false
   },
   "outputs": [
    {
     "name": "stdout",
     "output_type": "stream",
     "text": [
      "Categorical Variables: ['type', 'release_year', 'age_certification', 'runtime', 'seasons', 'imdb_score', 'tmdb_popularity']\n",
      "\n",
      "Numerical But Categorical Variables: []\n",
      "\n",
      "Categorical But Numerical Variables: ['title', 'genres', 'production_countries', 'imdb_votes']\n",
      "\n",
      "Numerical Variables: ['title', 'genres', 'production_countries', 'imdb_votes']\n"
     ]
    }
   ],
   "source": [
    "# Categorization of Categorical and Numerical columns\n",
    "\n",
    "def col_summary(df):\n",
    "    categorical_cols = [col for col in df.columns if str(df[col].dtypes) in [\"category\", \"object\", \"bool\"]]\n",
    "    numerical_but_categorical = [col for col in df.columns if df[col].nunique() < 10 and df[col].dtypes in [\"int64\", \"float64\"]]\n",
    "    categorical_but_cardinal = [col for col in df.columns if df[col].nunique() > 20 and str(df[col].dtypes) in [\"category\",\"object\"]]\n",
    "    categorical_cols = [col for col in df.columns if col not in categorical_but_cardinal]\n",
    "    numerical_cols = [col for col in df.columns if df[col].dtypes in [\"int64\", \"float64\"]]\n",
    "    numerical_cols = [col for col in df.columns if col not in categorical_cols]\n",
    "    print(f\"Categorical Variables: {categorical_cols}\\n\\nNumerical But Categorical Variables: {numerical_but_categorical}\\n\\nCategorical But Numerical Variables: {categorical_but_cardinal}\\n\\nNumerical Variables: {numerical_cols}\")\n",
    "\n",
    "col_summary(df)"
   ]
  },
  {
   "cell_type": "code",
   "execution_count": 11,
   "id": "423501ee",
   "metadata": {
    "scrolled": true
   },
   "outputs": [
    {
     "data": {
      "text/html": [
       "<style type=\"text/css\">\n",
       "#T_cc06c_row0_col0, #T_cc06c_row0_col1, #T_cc06c_row1_col0, #T_cc06c_row1_col1, #T_cc06c_row2_col0, #T_cc06c_row2_col1, #T_cc06c_row3_col0, #T_cc06c_row3_col1, #T_cc06c_row4_col0, #T_cc06c_row4_col1 {\n",
       "  background-color: #434242;\n",
       "  font-size: 15px;\n",
       "  color: #ffffff;\n",
       "}\n",
       "</style>\n",
       "<table id=\"T_cc06c\">\n",
       "  <thead>\n",
       "    <tr>\n",
       "      <th class=\"blank level0\" >&nbsp;</th>\n",
       "      <th id=\"T_cc06c_level0_col0\" class=\"col_heading level0 col0\" >min</th>\n",
       "      <th id=\"T_cc06c_level0_col1\" class=\"col_heading level0 col1\" >max</th>\n",
       "    </tr>\n",
       "  </thead>\n",
       "  <tbody>\n",
       "    <tr>\n",
       "      <th id=\"T_cc06c_level0_row0\" class=\"row_heading level0 row0\" >release_year</th>\n",
       "      <td id=\"T_cc06c_row0_col0\" class=\"data row0 col0\" >1954</td>\n",
       "      <td id=\"T_cc06c_row0_col1\" class=\"data row0 col1\" >2022</td>\n",
       "    </tr>\n",
       "    <tr>\n",
       "      <th id=\"T_cc06c_level0_row1\" class=\"row_heading level0 row1\" >runtime</th>\n",
       "      <td id=\"T_cc06c_row1_col0\" class=\"data row1 col0\" >0</td>\n",
       "      <td id=\"T_cc06c_row1_col1\" class=\"data row1 col1\" >225</td>\n",
       "    </tr>\n",
       "    <tr>\n",
       "      <th id=\"T_cc06c_level0_row2\" class=\"row_heading level0 row2\" >seasons</th>\n",
       "      <td id=\"T_cc06c_row2_col0\" class=\"data row2 col0\" >0</td>\n",
       "      <td id=\"T_cc06c_row2_col1\" class=\"data row2 col1\" >42</td>\n",
       "    </tr>\n",
       "    <tr>\n",
       "      <th id=\"T_cc06c_level0_row3\" class=\"row_heading level0 row3\" >imdb_score</th>\n",
       "      <td id=\"T_cc06c_row3_col0\" class=\"data row3 col0\" >1</td>\n",
       "      <td id=\"T_cc06c_row3_col1\" class=\"data row3 col1\" >9</td>\n",
       "    </tr>\n",
       "    <tr>\n",
       "      <th id=\"T_cc06c_level0_row4\" class=\"row_heading level0 row4\" >tmdb_popularity</th>\n",
       "      <td id=\"T_cc06c_row4_col0\" class=\"data row4 col0\" >0</td>\n",
       "      <td id=\"T_cc06c_row4_col1\" class=\"data row4 col1\" >2274</td>\n",
       "    </tr>\n",
       "  </tbody>\n",
       "</table>\n"
      ],
      "text/plain": [
       "<pandas.io.formats.style.Styler at 0x1d6d4e0dd90>"
      ]
     },
     "execution_count": 11,
     "metadata": {},
     "output_type": "execute_result"
    }
   ],
   "source": [
    "# Min Max of Dataset\n",
    "\n",
    "df.describe().loc[['min', 'max']].T.astype(int).style.set_properties(**{\"background-color\": \"#434242\", \"font-size\" : \"15px\",\n",
    "                                        \"color\": \"#ffffff\"})\n"
   ]
  },
  {
   "cell_type": "code",
   "execution_count": 12,
   "id": "45554ec7",
   "metadata": {
    "scrolled": true
   },
   "outputs": [
    {
     "name": "stdout",
     "output_type": "stream",
     "text": [
      "Total Tv Show Count: 1939\n",
      "Total Movie Count: 3429\n",
      "Total Content: 5368\n"
     ]
    }
   ],
   "source": [
    "# Value Counts of Tv Shows and Movies\n",
    "\n",
    "Tv_shows = df[df['type'] == 'SHOW']\n",
    "Movies = df[df['type'] == 'MOVIE']\n",
    "Total = df['title'].count()\n",
    "\n",
    "print(f\"Total Tv Show Count: {Tv_shows.title.count()}\\nTotal Movie Count: {Movies.title.count()}\\nTotal Content: {Total}\")"
   ]
  },
  {
   "cell_type": "markdown",
   "id": "bbfce7f2",
   "metadata": {},
   "source": [
    "#### Visualization of Movies and Tv Shows Count"
   ]
  },
  {
   "cell_type": "code",
   "execution_count": 13,
   "id": "25d83c55",
   "metadata": {
    "scrolled": false
   },
   "outputs": [
    {
     "data": {
      "image/png": "[encoded data removed]",
      "text/plain": [
       "<Figure size 640x480 with 1 Axes>"
      ]
     },
     "metadata": {},
     "output_type": "display_data"
    }
   ],
   "source": [
    "sns.set(style=\"darkgrid\")\n",
    "ax = sns.countplot(x=\"type\", data=df, palette=\"Set2\")"
   ]
  },
  {
   "cell_type": "markdown",
   "id": "27e7e8c4",
   "metadata": {},
   "source": [
    "#### Rename Countries"
   ]
  },
  {
   "cell_type": "code",
   "execution_count": 14,
   "id": "18cfa257",
   "metadata": {},
   "outputs": [],
   "source": [
    "df['production_countries'] = df['production_countries'].apply(lambda x: 'United States' if 'US' in x else x)\n",
    "df['production_countries'] = df['production_countries'].apply(lambda x: 'India' if 'IN' in x else x)\n",
    "df['production_countries'] = df['production_countries'].apply(lambda x: 'Japan' if 'JP' in x else x)\n",
    "df['production_countries'] = df['production_countries'].apply(lambda x: 'Korea' if 'KR' in x else x)\n",
    "df['production_countries'] = df['production_countries'].apply(lambda x: 'United Kingdom' if 'GB' in x else x)\n",
    "df['production_countries'] = df['production_countries'].apply(lambda x: 'Spain' if 'ES' in x else x)\n",
    "df['production_countries'] = df['production_countries'].apply(lambda x: 'France' if 'FR' in x else x)\n",
    "df['production_countries'] = df['production_countries'].apply(lambda x: 'Canada' if 'CA' in x else x)\n",
    "df['production_countries'] = df['production_countries'].apply(lambda x: 'Mexico' if 'MX' in x else x)\n",
    "df['production_countries'] = df['production_countries'].apply(lambda x: 'Brazil' if 'BR' in x else x)"
   ]
  },
  {
   "cell_type": "markdown",
   "id": "5a956554",
   "metadata": {},
   "source": [
    "#### Top 10 countries with the most content"
   ]
  },
  {
   "cell_type": "code",
   "execution_count": 15,
   "id": "d0fcbdc0",
   "metadata": {
    "scrolled": true
   },
   "outputs": [
    {
     "data": {
      "text/html": [
       "<div>\n",
       "<style scoped>\n",
       "    .dataframe tbody tr th:only-of-type {\n",
       "        vertical-align: middle;\n",
       "    }\n",
       "\n",
       "    .dataframe tbody tr th {\n",
       "        vertical-align: top;\n",
       "    }\n",
       "\n",
       "    .dataframe thead th {\n",
       "        text-align: right;\n",
       "    }\n",
       "</style>\n",
       "<table border=\"1\" class=\"dataframe\">\n",
       "  <thead>\n",
       "    <tr style=\"text-align: right;\">\n",
       "      <th></th>\n",
       "      <th>production_countries</th>\n",
       "    </tr>\n",
       "  </thead>\n",
       "  <tbody>\n",
       "    <tr>\n",
       "      <th>United States</th>\n",
       "      <td>2163</td>\n",
       "    </tr>\n",
       "    <tr>\n",
       "      <th>India</th>\n",
       "      <td>582</td>\n",
       "    </tr>\n",
       "    <tr>\n",
       "      <th>United Kingdom</th>\n",
       "      <td>251</td>\n",
       "    </tr>\n",
       "    <tr>\n",
       "      <th>Japan</th>\n",
       "      <td>247</td>\n",
       "    </tr>\n",
       "    <tr>\n",
       "      <th>Korea</th>\n",
       "      <td>193</td>\n",
       "    </tr>\n",
       "    <tr>\n",
       "      <th>Spain</th>\n",
       "      <td>188</td>\n",
       "    </tr>\n",
       "    <tr>\n",
       "      <th>France</th>\n",
       "      <td>182</td>\n",
       "    </tr>\n",
       "    <tr>\n",
       "      <th>[]</th>\n",
       "      <td>174</td>\n",
       "    </tr>\n",
       "    <tr>\n",
       "      <th>Canada</th>\n",
       "      <td>105</td>\n",
       "    </tr>\n",
       "    <tr>\n",
       "      <th>Mexico</th>\n",
       "      <td>96</td>\n",
       "    </tr>\n",
       "  </tbody>\n",
       "</table>\n",
       "</div>"
      ],
      "text/plain": [
       "                production_countries\n",
       "United States                   2163\n",
       "India                            582\n",
       "United Kingdom                   251\n",
       "Japan                            247\n",
       "Korea                            193\n",
       "Spain                            188\n",
       "France                           182\n",
       "[]                               174\n",
       "Canada                           105\n",
       "Mexico                            96"
      ]
     },
     "execution_count": 15,
     "metadata": {},
     "output_type": "execute_result"
    }
   ],
   "source": [
    "countries = df['production_countries'].value_counts().sort_values(ascending=False).head(10)\n",
    "countries = pd.DataFrame(countries)\n",
    "countries.iloc[0:10]"
   ]
  },
  {
   "cell_type": "code",
   "execution_count": 16,
   "id": "97701741",
   "metadata": {},
   "outputs": [],
   "source": [
    "# Remove [] \n",
    "df = df[~df[\"production_countries\"].isin([\"[]\"])]"
   ]
  },
  {
   "cell_type": "code",
   "execution_count": 17,
   "id": "85be12ad",
   "metadata": {
    "scrolled": false
   },
   "outputs": [
    {
     "data": {
      "image/png": "[encoded data removed]",
      "text/plain": [
       "<Figure size 800x700 with 1 Axes>"
      ]
     },
     "metadata": {},
     "output_type": "display_data"
    }
   ],
   "source": [
    "plt.figure(figsize=(8, 7))\n",
    "sns.countplot(data=df, x ='production_countries', order=df.production_countries.value_counts().iloc[:10].index)\n",
    "plt.title(\"Top 10 countries with the most content\")\n",
    "plt.ylabel('counts')\n",
    "plt.xlabel('Countries')\n",
    "plt.xticks(rotation=90)\n",
    "plt.tight_layout(pad=1.0, w_pad=10.0, h_pad=10.0)\n",
    "plt.show(block=True)"
   ]
  },
  {
   "cell_type": "code",
   "execution_count": 18,
   "id": "22aaffba",
   "metadata": {
    "scrolled": false
   },
   "outputs": [
    {
     "data": {
      "image/png": "[encoded data removed]",
      "text/plain": [
       "<Figure size 800x700 with 1 Axes>"
      ]
     },
     "metadata": {},
     "output_type": "display_data"
    }
   ],
   "source": [
    "plt.figure(figsize=(8, 7))\n",
    "sns.countplot(data=df, x ='age_certification', order=df.age_certification.value_counts().sort_values(ascending=False).index)\n",
    "plt.title(\"Age Certification Counts\")\n",
    "plt.ylabel('counts')\n",
    "plt.xlabel('Age Certification')\n",
    "plt.xticks(rotation=90)\n",
    "plt.tight_layout(pad=1.0, w_pad=10.0, h_pad=10.0)\n",
    "plt.show(block=True)"
   ]
  },
  {
   "cell_type": "code",
   "execution_count": 19,
   "id": "a259ad37",
   "metadata": {
    "scrolled": false
   },
   "outputs": [
    {
     "data": {
      "text/html": [
       "<style type=\"text/css\">\n",
       "#T_7e3a3_row0_col0, #T_7e3a3_row0_col1, #T_7e3a3_row0_col2, #T_7e3a3_row0_col3, #T_7e3a3_row0_col4, #T_7e3a3_row1_col0, #T_7e3a3_row1_col1, #T_7e3a3_row1_col2, #T_7e3a3_row1_col3, #T_7e3a3_row1_col4, #T_7e3a3_row2_col0, #T_7e3a3_row2_col1, #T_7e3a3_row2_col2, #T_7e3a3_row2_col3, #T_7e3a3_row2_col4, #T_7e3a3_row3_col0, #T_7e3a3_row3_col1, #T_7e3a3_row3_col2, #T_7e3a3_row3_col3, #T_7e3a3_row3_col4, #T_7e3a3_row4_col0, #T_7e3a3_row4_col1, #T_7e3a3_row4_col2, #T_7e3a3_row4_col3, #T_7e3a3_row4_col4, #T_7e3a3_row5_col0, #T_7e3a3_row5_col1, #T_7e3a3_row5_col2, #T_7e3a3_row5_col3, #T_7e3a3_row5_col4, #T_7e3a3_row6_col0, #T_7e3a3_row6_col1, #T_7e3a3_row6_col2, #T_7e3a3_row6_col3, #T_7e3a3_row6_col4, #T_7e3a3_row7_col0, #T_7e3a3_row7_col1, #T_7e3a3_row7_col2, #T_7e3a3_row7_col3, #T_7e3a3_row7_col4, #T_7e3a3_row8_col0, #T_7e3a3_row8_col1, #T_7e3a3_row8_col2, #T_7e3a3_row8_col3, #T_7e3a3_row8_col4, #T_7e3a3_row9_col0, #T_7e3a3_row9_col1, #T_7e3a3_row9_col2, #T_7e3a3_row9_col3, #T_7e3a3_row9_col4, #T_7e3a3_row10_col0, #T_7e3a3_row10_col1, #T_7e3a3_row10_col2, #T_7e3a3_row10_col3, #T_7e3a3_row10_col4, #T_7e3a3_row11_col0, #T_7e3a3_row11_col1, #T_7e3a3_row11_col2, #T_7e3a3_row11_col3, #T_7e3a3_row11_col4, #T_7e3a3_row12_col0, #T_7e3a3_row12_col1, #T_7e3a3_row12_col2, #T_7e3a3_row12_col3, #T_7e3a3_row12_col4, #T_7e3a3_row13_col0, #T_7e3a3_row13_col1, #T_7e3a3_row13_col2, #T_7e3a3_row13_col3, #T_7e3a3_row13_col4, #T_7e3a3_row14_col0, #T_7e3a3_row14_col1, #T_7e3a3_row14_col2, #T_7e3a3_row14_col3, #T_7e3a3_row14_col4, #T_7e3a3_row15_col0, #T_7e3a3_row15_col1, #T_7e3a3_row15_col2, #T_7e3a3_row15_col3, #T_7e3a3_row15_col4, #T_7e3a3_row16_col0, #T_7e3a3_row16_col1, #T_7e3a3_row16_col2, #T_7e3a3_row16_col3, #T_7e3a3_row16_col4, #T_7e3a3_row17_col0, #T_7e3a3_row17_col1, #T_7e3a3_row17_col2, #T_7e3a3_row17_col3, #T_7e3a3_row17_col4, #T_7e3a3_row18_col0, #T_7e3a3_row18_col1, #T_7e3a3_row18_col2, #T_7e3a3_row18_col3, #T_7e3a3_row18_col4, #T_7e3a3_row19_col0, #T_7e3a3_row19_col1, #T_7e3a3_row19_col2, #T_7e3a3_row19_col3, #T_7e3a3_row19_col4 {\n",
       "  font-size: 15px;\n",
       "  color: #000;\n",
       "  border: 1px solid black;\n",
       "}\n",
       "</style>\n",
       "<table id=\"T_7e3a3\">\n",
       "  <thead>\n",
       "    <tr>\n",
       "      <th class=\"blank\" >&nbsp;</th>\n",
       "      <th class=\"blank level0\" >&nbsp;</th>\n",
       "      <th id=\"T_7e3a3_level0_col0\" class=\"col_heading level0 col0\" >Score_mean</th>\n",
       "      <th id=\"T_7e3a3_level0_col1\" class=\"col_heading level0 col1\" >Score_min</th>\n",
       "      <th id=\"T_7e3a3_level0_col2\" class=\"col_heading level0 col2\" >Score_max</th>\n",
       "      <th id=\"T_7e3a3_level0_col3\" class=\"col_heading level0 col3\" >Content_count</th>\n",
       "      <th id=\"T_7e3a3_level0_col4\" class=\"col_heading level0 col4\" >Year_with_the_most_content</th>\n",
       "    </tr>\n",
       "    <tr>\n",
       "      <th class=\"index_name level0\" >production_countries</th>\n",
       "      <th class=\"index_name level1\" >type</th>\n",
       "      <th class=\"blank col0\" >&nbsp;</th>\n",
       "      <th class=\"blank col1\" >&nbsp;</th>\n",
       "      <th class=\"blank col2\" >&nbsp;</th>\n",
       "      <th class=\"blank col3\" >&nbsp;</th>\n",
       "      <th class=\"blank col4\" >&nbsp;</th>\n",
       "    </tr>\n",
       "  </thead>\n",
       "  <tbody>\n",
       "    <tr>\n",
       "      <th id=\"T_7e3a3_level0_row0\" class=\"row_heading level0 row0\" rowspan=\"2\">United States</th>\n",
       "      <th id=\"T_7e3a3_level1_row0\" class=\"row_heading level1 row0\" >SHOW</th>\n",
       "      <td id=\"T_7e3a3_row0_col0\" class=\"data row0 col0\" >6.8</td>\n",
       "      <td id=\"T_7e3a3_row0_col1\" class=\"data row0 col1\" >2.0</td>\n",
       "      <td id=\"T_7e3a3_row0_col2\" class=\"data row0 col2\" >9.5</td>\n",
       "      <td id=\"T_7e3a3_row0_col3\" class=\"data row0 col3\" >789</td>\n",
       "      <td id=\"T_7e3a3_row0_col4\" class=\"data row0 col4\" >2017</td>\n",
       "    </tr>\n",
       "    <tr>\n",
       "      <th id=\"T_7e3a3_level1_row1\" class=\"row_heading level1 row1\" >MOVIE</th>\n",
       "      <td id=\"T_7e3a3_row1_col0\" class=\"data row1 col0\" >6.3</td>\n",
       "      <td id=\"T_7e3a3_row1_col1\" class=\"data row1 col1\" >2.0</td>\n",
       "      <td id=\"T_7e3a3_row1_col2\" class=\"data row1 col2\" >8.8</td>\n",
       "      <td id=\"T_7e3a3_row1_col3\" class=\"data row1 col3\" >1374</td>\n",
       "      <td id=\"T_7e3a3_row1_col4\" class=\"data row1 col4\" >2015</td>\n",
       "    </tr>\n",
       "    <tr>\n",
       "      <th id=\"T_7e3a3_level0_row2\" class=\"row_heading level0 row2\" rowspan=\"2\">United Kingdom</th>\n",
       "      <th id=\"T_7e3a3_level1_row2\" class=\"row_heading level1 row2\" >SHOW</th>\n",
       "      <td id=\"T_7e3a3_row2_col0\" class=\"data row2 col0\" >7.2</td>\n",
       "      <td id=\"T_7e3a3_row2_col1\" class=\"data row2 col1\" >3.9</td>\n",
       "      <td id=\"T_7e3a3_row2_col2\" class=\"data row2 col2\" >9.3</td>\n",
       "      <td id=\"T_7e3a3_row2_col3\" class=\"data row2 col3\" >128</td>\n",
       "      <td id=\"T_7e3a3_row2_col4\" class=\"data row2 col4\" >2015</td>\n",
       "    </tr>\n",
       "    <tr>\n",
       "      <th id=\"T_7e3a3_level1_row3\" class=\"row_heading level1 row3\" >MOVIE</th>\n",
       "      <td id=\"T_7e3a3_row3_col0\" class=\"data row3 col0\" >6.5</td>\n",
       "      <td id=\"T_7e3a3_row3_col1\" class=\"data row3 col1\" >3.4</td>\n",
       "      <td id=\"T_7e3a3_row3_col2\" class=\"data row3 col2\" >8.9</td>\n",
       "      <td id=\"T_7e3a3_row3_col3\" class=\"data row3 col3\" >123</td>\n",
       "      <td id=\"T_7e3a3_row3_col4\" class=\"data row3 col4\" >2016</td>\n",
       "    </tr>\n",
       "    <tr>\n",
       "      <th id=\"T_7e3a3_level0_row4\" class=\"row_heading level0 row4\" rowspan=\"2\">Spain</th>\n",
       "      <th id=\"T_7e3a3_level1_row4\" class=\"row_heading level1 row4\" >SHOW</th>\n",
       "      <td id=\"T_7e3a3_row4_col0\" class=\"data row4 col0\" >6.6</td>\n",
       "      <td id=\"T_7e3a3_row4_col1\" class=\"data row4 col1\" >2.8</td>\n",
       "      <td id=\"T_7e3a3_row4_col2\" class=\"data row4 col2\" >8.8</td>\n",
       "      <td id=\"T_7e3a3_row4_col3\" class=\"data row4 col3\" >70</td>\n",
       "      <td id=\"T_7e3a3_row4_col4\" class=\"data row4 col4\" >2019</td>\n",
       "    </tr>\n",
       "    <tr>\n",
       "      <th id=\"T_7e3a3_level1_row5\" class=\"row_heading level1 row5\" >MOVIE</th>\n",
       "      <td id=\"T_7e3a3_row5_col0\" class=\"data row5 col0\" >6.1</td>\n",
       "      <td id=\"T_7e3a3_row5_col1\" class=\"data row5 col1\" >2.8</td>\n",
       "      <td id=\"T_7e3a3_row5_col2\" class=\"data row5 col2\" >8.1</td>\n",
       "      <td id=\"T_7e3a3_row5_col3\" class=\"data row5 col3\" >118</td>\n",
       "      <td id=\"T_7e3a3_row5_col4\" class=\"data row5 col4\" >2018</td>\n",
       "    </tr>\n",
       "    <tr>\n",
       "      <th id=\"T_7e3a3_level0_row6\" class=\"row_heading level0 row6\" rowspan=\"2\">Mexico</th>\n",
       "      <th id=\"T_7e3a3_level1_row6\" class=\"row_heading level1 row6\" >SHOW</th>\n",
       "      <td id=\"T_7e3a3_row6_col0\" class=\"data row6 col0\" >6.8</td>\n",
       "      <td id=\"T_7e3a3_row6_col1\" class=\"data row6 col1\" >5.1</td>\n",
       "      <td id=\"T_7e3a3_row6_col2\" class=\"data row6 col2\" >8.2</td>\n",
       "      <td id=\"T_7e3a3_row6_col3\" class=\"data row6 col3\" >39</td>\n",
       "      <td id=\"T_7e3a3_row6_col4\" class=\"data row6 col4\" >2018</td>\n",
       "    </tr>\n",
       "    <tr>\n",
       "      <th id=\"T_7e3a3_level1_row7\" class=\"row_heading level1 row7\" >MOVIE</th>\n",
       "      <td id=\"T_7e3a3_row7_col0\" class=\"data row7 col0\" >6.0</td>\n",
       "      <td id=\"T_7e3a3_row7_col1\" class=\"data row7 col1\" >2.7</td>\n",
       "      <td id=\"T_7e3a3_row7_col2\" class=\"data row7 col2\" >8.1</td>\n",
       "      <td id=\"T_7e3a3_row7_col3\" class=\"data row7 col3\" >57</td>\n",
       "      <td id=\"T_7e3a3_row7_col4\" class=\"data row7 col4\" >2017</td>\n",
       "    </tr>\n",
       "    <tr>\n",
       "      <th id=\"T_7e3a3_level0_row8\" class=\"row_heading level0 row8\" rowspan=\"2\">Korea</th>\n",
       "      <th id=\"T_7e3a3_level1_row8\" class=\"row_heading level1 row8\" >SHOW</th>\n",
       "      <td id=\"T_7e3a3_row8_col0\" class=\"data row8 col0\" >7.5</td>\n",
       "      <td id=\"T_7e3a3_row8_col1\" class=\"data row8 col1\" >4.0</td>\n",
       "      <td id=\"T_7e3a3_row8_col2\" class=\"data row8 col2\" >9.2</td>\n",
       "      <td id=\"T_7e3a3_row8_col3\" class=\"data row8 col3\" >150</td>\n",
       "      <td id=\"T_7e3a3_row8_col4\" class=\"data row8 col4\" >2018</td>\n",
       "    </tr>\n",
       "    <tr>\n",
       "      <th id=\"T_7e3a3_level1_row9\" class=\"row_heading level1 row9\" >MOVIE</th>\n",
       "      <td id=\"T_7e3a3_row9_col0\" class=\"data row9 col0\" >6.2</td>\n",
       "      <td id=\"T_7e3a3_row9_col1\" class=\"data row9 col1\" >4.1</td>\n",
       "      <td id=\"T_7e3a3_row9_col2\" class=\"data row9 col2\" >8.0</td>\n",
       "      <td id=\"T_7e3a3_row9_col3\" class=\"data row9 col3\" >43</td>\n",
       "      <td id=\"T_7e3a3_row9_col4\" class=\"data row9 col4\" >2017</td>\n",
       "    </tr>\n",
       "    <tr>\n",
       "      <th id=\"T_7e3a3_level0_row10\" class=\"row_heading level0 row10\" rowspan=\"2\">Japan</th>\n",
       "      <th id=\"T_7e3a3_level1_row10\" class=\"row_heading level1 row10\" >SHOW</th>\n",
       "      <td id=\"T_7e3a3_row10_col0\" class=\"data row10 col0\" >7.2</td>\n",
       "      <td id=\"T_7e3a3_row10_col1\" class=\"data row10 col1\" >2.0</td>\n",
       "      <td id=\"T_7e3a3_row10_col2\" class=\"data row10 col2\" >9.0</td>\n",
       "      <td id=\"T_7e3a3_row10_col3\" class=\"data row10 col3\" >153</td>\n",
       "      <td id=\"T_7e3a3_row10_col4\" class=\"data row10 col4\" >2016</td>\n",
       "    </tr>\n",
       "    <tr>\n",
       "      <th id=\"T_7e3a3_level1_row11\" class=\"row_heading level1 row11\" >MOVIE</th>\n",
       "      <td id=\"T_7e3a3_row11_col0\" class=\"data row11 col0\" >6.7</td>\n",
       "      <td id=\"T_7e3a3_row11_col1\" class=\"data row11 col1\" >4.4</td>\n",
       "      <td id=\"T_7e3a3_row11_col2\" class=\"data row11 col2\" >8.3</td>\n",
       "      <td id=\"T_7e3a3_row11_col3\" class=\"data row11 col3\" >94</td>\n",
       "      <td id=\"T_7e3a3_row11_col4\" class=\"data row11 col4\" >2014</td>\n",
       "    </tr>\n",
       "    <tr>\n",
       "      <th id=\"T_7e3a3_level0_row12\" class=\"row_heading level0 row12\" rowspan=\"2\">India</th>\n",
       "      <th id=\"T_7e3a3_level1_row12\" class=\"row_heading level1 row12\" >SHOW</th>\n",
       "      <td id=\"T_7e3a3_row12_col0\" class=\"data row12 col0\" >6.7</td>\n",
       "      <td id=\"T_7e3a3_row12_col1\" class=\"data row12 col1\" >3.5</td>\n",
       "      <td id=\"T_7e3a3_row12_col2\" class=\"data row12 col2\" >9.1</td>\n",
       "      <td id=\"T_7e3a3_row12_col3\" class=\"data row12 col3\" >38</td>\n",
       "      <td id=\"T_7e3a3_row12_col4\" class=\"data row12 col4\" >2018</td>\n",
       "    </tr>\n",
       "    <tr>\n",
       "      <th id=\"T_7e3a3_level1_row13\" class=\"row_heading level1 row13\" >MOVIE</th>\n",
       "      <td id=\"T_7e3a3_row13_col0\" class=\"data row13 col0\" >6.3</td>\n",
       "      <td id=\"T_7e3a3_row13_col1\" class=\"data row13 col1\" >1.7</td>\n",
       "      <td id=\"T_7e3a3_row13_col2\" class=\"data row13 col2\" >9.1</td>\n",
       "      <td id=\"T_7e3a3_row13_col3\" class=\"data row13 col3\" >544</td>\n",
       "      <td id=\"T_7e3a3_row13_col4\" class=\"data row13 col4\" >2013</td>\n",
       "    </tr>\n",
       "    <tr>\n",
       "      <th id=\"T_7e3a3_level0_row14\" class=\"row_heading level0 row14\" rowspan=\"2\">France</th>\n",
       "      <th id=\"T_7e3a3_level1_row14\" class=\"row_heading level1 row14\" >SHOW</th>\n",
       "      <td id=\"T_7e3a3_row14_col0\" class=\"data row14 col0\" >6.9</td>\n",
       "      <td id=\"T_7e3a3_row14_col1\" class=\"data row14 col1\" >2.4</td>\n",
       "      <td id=\"T_7e3a3_row14_col2\" class=\"data row14 col2\" >8.3</td>\n",
       "      <td id=\"T_7e3a3_row14_col3\" class=\"data row14 col3\" >56</td>\n",
       "      <td id=\"T_7e3a3_row14_col4\" class=\"data row14 col4\" >2016</td>\n",
       "    </tr>\n",
       "    <tr>\n",
       "      <th id=\"T_7e3a3_level1_row15\" class=\"row_heading level1 row15\" >MOVIE</th>\n",
       "      <td id=\"T_7e3a3_row15_col0\" class=\"data row15 col0\" >6.1</td>\n",
       "      <td id=\"T_7e3a3_row15_col1\" class=\"data row15 col1\" >3.4</td>\n",
       "      <td id=\"T_7e3a3_row15_col2\" class=\"data row15 col2\" >7.9</td>\n",
       "      <td id=\"T_7e3a3_row15_col3\" class=\"data row15 col3\" >126</td>\n",
       "      <td id=\"T_7e3a3_row15_col4\" class=\"data row15 col4\" >2015</td>\n",
       "    </tr>\n",
       "    <tr>\n",
       "      <th id=\"T_7e3a3_level0_row16\" class=\"row_heading level0 row16\" rowspan=\"2\">Canada</th>\n",
       "      <th id=\"T_7e3a3_level1_row16\" class=\"row_heading level1 row16\" >SHOW</th>\n",
       "      <td id=\"T_7e3a3_row16_col0\" class=\"data row16 col0\" >6.9</td>\n",
       "      <td id=\"T_7e3a3_row16_col1\" class=\"data row16 col1\" >3.4</td>\n",
       "      <td id=\"T_7e3a3_row16_col2\" class=\"data row16 col2\" >8.7</td>\n",
       "      <td id=\"T_7e3a3_row16_col3\" class=\"data row16 col3\" >43</td>\n",
       "      <td id=\"T_7e3a3_row16_col4\" class=\"data row16 col4\" >2016</td>\n",
       "    </tr>\n",
       "    <tr>\n",
       "      <th id=\"T_7e3a3_level1_row17\" class=\"row_heading level1 row17\" >MOVIE</th>\n",
       "      <td id=\"T_7e3a3_row17_col0\" class=\"data row17 col0\" >6.1</td>\n",
       "      <td id=\"T_7e3a3_row17_col1\" class=\"data row17 col1\" >3.9</td>\n",
       "      <td id=\"T_7e3a3_row17_col2\" class=\"data row17 col2\" >8.6</td>\n",
       "      <td id=\"T_7e3a3_row17_col3\" class=\"data row17 col3\" >62</td>\n",
       "      <td id=\"T_7e3a3_row17_col4\" class=\"data row17 col4\" >2017</td>\n",
       "    </tr>\n",
       "    <tr>\n",
       "      <th id=\"T_7e3a3_level0_row18\" class=\"row_heading level0 row18\" rowspan=\"2\">Brazil</th>\n",
       "      <th id=\"T_7e3a3_level1_row18\" class=\"row_heading level1 row18\" >SHOW</th>\n",
       "      <td id=\"T_7e3a3_row18_col0\" class=\"data row18 col0\" >6.3</td>\n",
       "      <td id=\"T_7e3a3_row18_col1\" class=\"data row18 col1\" >4.2</td>\n",
       "      <td id=\"T_7e3a3_row18_col2\" class=\"data row18 col2\" >8.0</td>\n",
       "      <td id=\"T_7e3a3_row18_col3\" class=\"data row18 col3\" >35</td>\n",
       "      <td id=\"T_7e3a3_row18_col4\" class=\"data row18 col4\" >2019</td>\n",
       "    </tr>\n",
       "    <tr>\n",
       "      <th id=\"T_7e3a3_level1_row19\" class=\"row_heading level1 row19\" >MOVIE</th>\n",
       "      <td id=\"T_7e3a3_row19_col0\" class=\"data row19 col0\" >5.8</td>\n",
       "      <td id=\"T_7e3a3_row19_col1\" class=\"data row19 col1\" >2.3</td>\n",
       "      <td id=\"T_7e3a3_row19_col2\" class=\"data row19 col2\" >8.5</td>\n",
       "      <td id=\"T_7e3a3_row19_col3\" class=\"data row19 col3\" >53</td>\n",
       "      <td id=\"T_7e3a3_row19_col4\" class=\"data row19 col4\" >2018</td>\n",
       "    </tr>\n",
       "  </tbody>\n",
       "</table>\n"
      ],
      "text/plain": [
       "<pandas.io.formats.style.Styler at 0x1d6e8ca18e0>"
      ]
     },
     "execution_count": 19,
     "metadata": {},
     "output_type": "execute_result"
    }
   ],
   "source": [
    "# Movie and Tv Show stats from top 10 Countries\n",
    "import math\n",
    "country_stats = df.groupby(['production_countries', 'type']).agg(Score_mean=('imdb_score', 'mean'),\n",
    "                                                                 Score_min=('imdb_score', 'min'),\n",
    "                                                                 Score_max=('imdb_score', 'max'),\n",
    "                                                                 Content_count=('title', 'count'),\n",
    "                                                                 Year_with_the_most_content=('release_year', 'mean'))\n",
    "\n",
    "#country_stats = asd.sort_values(by='content_count', ascending=False).iloc[0:20]\n",
    "\n",
    "country_stats['Year_with_the_most_content'] = country_stats['Year_with_the_most_content'].astype(int)\n",
    "country_stats['Score_mean'] = country_stats['Score_mean'].apply(lambda x: int(x * 10) / 10)\n",
    "country_stats['Score_min'] = country_stats['Score_min'].apply(lambda x: '%.1f' % x)\n",
    "country_stats['Score_max'] = country_stats['Score_max'].apply(lambda x: '%.1f' % x)\n",
    "country_stats['Score_mean'] = country_stats['Score_mean'].apply(lambda x: '%.1f' % x)\n",
    "\n",
    "country_stats.iloc[0:20].sort_values(by='production_countries', ascending=False).style.set_properties(**{\"font-size\" : \"15px\",\n",
    "                                        \"color\": \"#000\", \"border\": \"1px solid black\"})"
   ]
  },
  {
   "cell_type": "markdown",
   "id": "6eb1447f",
   "metadata": {},
   "source": [
    "#### Number of Tv Shows and Movies Releases by Year"
   ]
  },
  {
   "cell_type": "code",
   "execution_count": 20,
   "id": "dcd51ea9",
   "metadata": {},
   "outputs": [
    {
     "data": {
      "image/png": "[encoded data removed]",
      "text/plain": [
       "<Figure size 700x500 with 1 Axes>"
      ]
     },
     "metadata": {},
     "output_type": "display_data"
    }
   ],
   "source": [
    "release_year_count = df['release_year'].value_counts()\n",
    "release_year_count = pd.DataFrame(release_year_count)\n",
    "\n",
    "plt.figure(figsize=(7,5))\n",
    "sns.lineplot(data=release_year_count)\n",
    "plt.title('Netflix´s  tv shows and movies release date (1940-2021)')\n",
    "plt.xlabel('Years')\n",
    "plt.ylabel('Released Shows')\n",
    "plt.show(block=True)\n",
    "\n"
   ]
  },
  {
   "cell_type": "markdown",
   "id": "53ef60ad",
   "metadata": {},
   "source": [
    "#### Top Rated Movies by Each Year"
   ]
  },
  {
   "cell_type": "code",
   "execution_count": 21,
   "id": "153c89bf",
   "metadata": {
    "scrolled": true
   },
   "outputs": [
    {
     "data": {
      "text/html": [
       "<div>\n",
       "<style scoped>\n",
       "    .dataframe tbody tr th:only-of-type {\n",
       "        vertical-align: middle;\n",
       "    }\n",
       "\n",
       "    .dataframe tbody tr th {\n",
       "        vertical-align: top;\n",
       "    }\n",
       "\n",
       "    .dataframe thead th {\n",
       "        text-align: right;\n",
       "    }\n",
       "</style>\n",
       "<table border=\"1\" class=\"dataframe\">\n",
       "  <thead>\n",
       "    <tr style=\"text-align: right;\">\n",
       "      <th></th>\n",
       "      <th>release_year</th>\n",
       "      <th>title</th>\n",
       "      <th>imdb_score</th>\n",
       "    </tr>\n",
       "  </thead>\n",
       "  <tbody>\n",
       "    <tr>\n",
       "      <th>1</th>\n",
       "      <td>2022</td>\n",
       "      <td>Major</td>\n",
       "      <td>9.1</td>\n",
       "    </tr>\n",
       "    <tr>\n",
       "      <th>2</th>\n",
       "      <td>2021</td>\n",
       "      <td>Bo Burnham: Inside</td>\n",
       "      <td>8.7</td>\n",
       "    </tr>\n",
       "    <tr>\n",
       "      <th>3</th>\n",
       "      <td>2020</td>\n",
       "      <td>David Attenborough: A Life on Our Planet</td>\n",
       "      <td>8.9</td>\n",
       "    </tr>\n",
       "    <tr>\n",
       "      <th>4</th>\n",
       "      <td>2019</td>\n",
       "      <td>Rubaru Roshni</td>\n",
       "      <td>8.6</td>\n",
       "    </tr>\n",
       "    <tr>\n",
       "      <th>5</th>\n",
       "      <td>2018</td>\n",
       "      <td>C/o Kancharapalem</td>\n",
       "      <td>8.9</td>\n",
       "    </tr>\n",
       "    <tr>\n",
       "      <th>6</th>\n",
       "      <td>2017</td>\n",
       "      <td>Bāhubali 2: The Conclusion</td>\n",
       "      <td>8.2</td>\n",
       "    </tr>\n",
       "    <tr>\n",
       "      <th>7</th>\n",
       "      <td>2016</td>\n",
       "      <td>Visaranai</td>\n",
       "      <td>8.5</td>\n",
       "    </tr>\n",
       "    <tr>\n",
       "      <th>8</th>\n",
       "      <td>2015</td>\n",
       "      <td>A Second Chance</td>\n",
       "      <td>8.6</td>\n",
       "    </tr>\n",
       "    <tr>\n",
       "      <th>9</th>\n",
       "      <td>2014</td>\n",
       "      <td>Starting Over Again</td>\n",
       "      <td>8.3</td>\n",
       "    </tr>\n",
       "    <tr>\n",
       "      <th>10</th>\n",
       "      <td>2013</td>\n",
       "      <td>Chhota Bheem and the ShiNobi Secret</td>\n",
       "      <td>8.6</td>\n",
       "    </tr>\n",
       "  </tbody>\n",
       "</table>\n",
       "</div>"
      ],
      "text/plain": [
       "    release_year                                     title  imdb_score\n",
       "1           2022                                     Major         9.1\n",
       "2           2021                        Bo Burnham: Inside         8.7\n",
       "3           2020  David Attenborough: A Life on Our Planet         8.9\n",
       "4           2019                             Rubaru Roshni         8.6\n",
       "5           2018                         C/o Kancharapalem         8.9\n",
       "6           2017                Bāhubali 2: The Conclusion         8.2\n",
       "7           2016                                 Visaranai         8.5\n",
       "8           2015                           A Second Chance         8.6\n",
       "9           2014                       Starting Over Again         8.3\n",
       "10          2013       Chhota Bheem and the ShiNobi Secret         8.6"
      ]
     },
     "execution_count": 21,
     "metadata": {},
     "output_type": "execute_result"
    }
   ],
   "source": [
    "df_movies_score = df.loc[df['type'] == 'MOVIE', ['release_year', 'title', 'imdb_score']]\n",
    "df_show_score = df.loc[df['type'] == 'SHOW', ['release_year', 'title', 'imdb_score']]\n",
    "\n",
    "df_sorted_m = df_movies_score.sort_values(by='imdb_score', ascending=False)\n",
    "df_grouped_m = df_sorted_m.groupby('release_year').first().reset_index()\n",
    "df_grouped_m = df_grouped_m[['release_year', 'title', 'imdb_score']]\n",
    "df_grouped_m = df_grouped_m.sort_values(by='release_year', ascending=False)\n",
    "df_grouped_m['imdb_score'] = df_grouped_m['imdb_score'].apply(lambda x: round(x, 1))\n",
    "df_grouped_m.index = np.arange(1, len(df_grouped_m) + 1)\n",
    "#df_grouped_m = df_grouped_m.head(10).style.set_caption(\"TOP RATED MOVIES OF LAST 10 YEARS\").set_properties(**{\"font-size\" : \"14px\", \"color\": \"#000\", \"border\": \"1px solid black\"})\n",
    "df_grouped_m.head(10)\n"
   ]
  },
  {
   "cell_type": "markdown",
   "id": "ce374827",
   "metadata": {},
   "source": [
    "#### Top Rated Tv Shows by Each Year"
   ]
  },
  {
   "cell_type": "code",
   "execution_count": 22,
   "id": "f9163edd",
   "metadata": {
    "scrolled": true
   },
   "outputs": [
    {
     "data": {
      "text/html": [
       "<div>\n",
       "<style scoped>\n",
       "    .dataframe tbody tr th:only-of-type {\n",
       "        vertical-align: middle;\n",
       "    }\n",
       "\n",
       "    .dataframe tbody tr th {\n",
       "        vertical-align: top;\n",
       "    }\n",
       "\n",
       "    .dataframe thead th {\n",
       "        text-align: right;\n",
       "    }\n",
       "</style>\n",
       "<table border=\"1\" class=\"dataframe\">\n",
       "  <thead>\n",
       "    <tr style=\"text-align: right;\">\n",
       "      <th></th>\n",
       "      <th>release_year</th>\n",
       "      <th>title</th>\n",
       "      <th>imdb_score</th>\n",
       "    </tr>\n",
       "  </thead>\n",
       "  <tbody>\n",
       "    <tr>\n",
       "      <th>1</th>\n",
       "      <td>2022</td>\n",
       "      <td>Heartstopper</td>\n",
       "      <td>8.0</td>\n",
       "    </tr>\n",
       "    <tr>\n",
       "      <th>2</th>\n",
       "      <td>2021</td>\n",
       "      <td>Arcane</td>\n",
       "      <td>7.0</td>\n",
       "    </tr>\n",
       "    <tr>\n",
       "      <th>3</th>\n",
       "      <td>2020</td>\n",
       "      <td>The Last Dance</td>\n",
       "      <td>8.3</td>\n",
       "    </tr>\n",
       "    <tr>\n",
       "      <th>4</th>\n",
       "      <td>2019</td>\n",
       "      <td>Our Planet</td>\n",
       "      <td>7.3</td>\n",
       "    </tr>\n",
       "    <tr>\n",
       "      <th>5</th>\n",
       "      <td>2018</td>\n",
       "      <td>My Mister</td>\n",
       "      <td>8.1</td>\n",
       "    </tr>\n",
       "    <tr>\n",
       "      <th>6</th>\n",
       "      <td>2017</td>\n",
       "      <td>Crazy Delicious</td>\n",
       "      <td>8.7</td>\n",
       "    </tr>\n",
       "    <tr>\n",
       "      <th>7</th>\n",
       "      <td>2016</td>\n",
       "      <td>Leah Remini: Scientology and the Aftermath</td>\n",
       "      <td>7.2</td>\n",
       "    </tr>\n",
       "    <tr>\n",
       "      <th>8</th>\n",
       "      <td>2015</td>\n",
       "      <td>Reply 1988</td>\n",
       "      <td>7.2</td>\n",
       "    </tr>\n",
       "    <tr>\n",
       "      <th>9</th>\n",
       "      <td>2014</td>\n",
       "      <td>Raja, Rasoi Aur Anya Kahaniyaan</td>\n",
       "      <td>8.5</td>\n",
       "    </tr>\n",
       "    <tr>\n",
       "      <th>10</th>\n",
       "      <td>2013</td>\n",
       "      <td>Attack on Titan</td>\n",
       "      <td>8.8</td>\n",
       "    </tr>\n",
       "  </tbody>\n",
       "</table>\n",
       "</div>"
      ],
      "text/plain": [
       "    release_year                                       title  imdb_score\n",
       "1           2022                                Heartstopper         8.0\n",
       "2           2021                                      Arcane         7.0\n",
       "3           2020                              The Last Dance         8.3\n",
       "4           2019                                  Our Planet         7.3\n",
       "5           2018                                   My Mister         8.1\n",
       "6           2017                             Crazy Delicious         8.7\n",
       "7           2016  Leah Remini: Scientology and the Aftermath         7.2\n",
       "8           2015                                  Reply 1988         7.2\n",
       "9           2014             Raja, Rasoi Aur Anya Kahaniyaan         8.5\n",
       "10          2013                             Attack on Titan         8.8"
      ]
     },
     "execution_count": 22,
     "metadata": {},
     "output_type": "execute_result"
    }
   ],
   "source": [
    "df_sorted_s = df_show_score.sort_values(by='imdb_score', ascending=False)\n",
    "df_grouped_s = df_sorted_s.groupby('release_year').first().reset_index()\n",
    "df_grouped_s = df_grouped_s[['release_year', 'title', 'imdb_score']]\n",
    "df_grouped_s = df_grouped_s.sort_values(by='release_year', ascending=False)\n",
    "df_grouped_s['imdb_score'] = df_grouped_m['imdb_score'].apply(lambda x: round(x, 1))\n",
    "df_grouped_s.index = np.arange(1, len(df_grouped_s) + 1)\n",
    "#df_grouped_m = df_grouped_m.head(10).style.set_caption(\"TOP RATED MOVIES OF LAST 10 YEARS\").set_properties(**{\"font-size\" : \"14px\", \"color\": \"#000\", \"border\": \"1px solid black\"})\n",
    "df_grouped_s.head(10)"
   ]
  },
  {
   "cell_type": "markdown",
   "id": "231e06cc",
   "metadata": {},
   "source": [
    "#### Top Rated Movie and Tv Show of all times"
   ]
  },
  {
   "cell_type": "code",
   "execution_count": 23,
   "id": "0e0c7aed",
   "metadata": {},
   "outputs": [
    {
     "data": {
      "text/html": [
       "<div>\n",
       "<style scoped>\n",
       "    .dataframe tbody tr th:only-of-type {\n",
       "        vertical-align: middle;\n",
       "    }\n",
       "\n",
       "    .dataframe tbody tr th {\n",
       "        vertical-align: top;\n",
       "    }\n",
       "\n",
       "    .dataframe thead th {\n",
       "        text-align: right;\n",
       "    }\n",
       "</style>\n",
       "<table border=\"1\" class=\"dataframe\">\n",
       "  <thead>\n",
       "    <tr style=\"text-align: right;\">\n",
       "      <th></th>\n",
       "      <th>type</th>\n",
       "      <th>production_countries</th>\n",
       "      <th>title</th>\n",
       "      <th>imdb_score</th>\n",
       "      <th>imdb_votes</th>\n",
       "      <th>release_year</th>\n",
       "      <th>seasons</th>\n",
       "    </tr>\n",
       "  </thead>\n",
       "  <tbody>\n",
       "    <tr>\n",
       "      <th>0</th>\n",
       "      <td>MOVIE</td>\n",
       "      <td>India</td>\n",
       "      <td>Major</td>\n",
       "      <td>9.1</td>\n",
       "      <td>7,576</td>\n",
       "      <td>2022</td>\n",
       "      <td>0</td>\n",
       "    </tr>\n",
       "    <tr>\n",
       "      <th>1</th>\n",
       "      <td>SHOW</td>\n",
       "      <td>United States</td>\n",
       "      <td>Breaking Bad</td>\n",
       "      <td>9.5</td>\n",
       "      <td>1,775,990</td>\n",
       "      <td>2008</td>\n",
       "      <td>5</td>\n",
       "    </tr>\n",
       "  </tbody>\n",
       "</table>\n",
       "</div>"
      ],
      "text/plain": [
       "    type production_countries         title  imdb_score imdb_votes  release_year  seasons\n",
       "0  MOVIE                India         Major         9.1      7,576          2022        0\n",
       "1   SHOW        United States  Breaking Bad         9.5  1,775,990          2008        5"
      ]
     },
     "execution_count": 23,
     "metadata": {},
     "output_type": "execute_result"
    }
   ],
   "source": [
    "# Top Rated Movie and Tv Show on Netflix According to IMDB ()\n",
    "df.loc[df.groupby(['type'])['imdb_score'].idxmax()][['type', 'production_countries', 'title', 'imdb_score', 'imdb_votes', 'release_year', 'seasons']].reset_index(drop=True)\n"
   ]
  },
  {
   "cell_type": "markdown",
   "id": "85050571",
   "metadata": {},
   "source": [
    "#### Most Popular Movies and Tv Shows by Each Year"
   ]
  },
  {
   "cell_type": "code",
   "execution_count": 24,
   "id": "e976011a",
   "metadata": {},
   "outputs": [],
   "source": [
    "df_movies_popularity = df.loc[df['type'] == 'MOVIE', ['release_year', 'title', 'tmdb_popularity']]\n",
    "df_show_popularity = df.loc[df['type'] == 'SHOW', ['release_year', 'title', 'tmdb_popularity']]"
   ]
  },
  {
   "cell_type": "code",
   "execution_count": 25,
   "id": "7f9dd525",
   "metadata": {},
   "outputs": [
    {
     "data": {
      "text/html": [
       "<style type=\"text/css\">\n",
       "#T_19a7d_row0_col0, #T_19a7d_row0_col1, #T_19a7d_row1_col0, #T_19a7d_row1_col1, #T_19a7d_row2_col0, #T_19a7d_row2_col1, #T_19a7d_row3_col0, #T_19a7d_row3_col1, #T_19a7d_row4_col0, #T_19a7d_row4_col1, #T_19a7d_row5_col0, #T_19a7d_row5_col1, #T_19a7d_row6_col0, #T_19a7d_row6_col1, #T_19a7d_row7_col0, #T_19a7d_row7_col1, #T_19a7d_row8_col0, #T_19a7d_row8_col1, #T_19a7d_row9_col0, #T_19a7d_row9_col1 {\n",
       "  font-size: 14px;\n",
       "  color: #000;\n",
       "  border: 1px solid black;\n",
       "}\n",
       "</style>\n",
       "<table id=\"T_19a7d\">\n",
       "  <caption>MOST POPULAR MOVIES OF LAST 10 YEARS</caption>\n",
       "  <thead>\n",
       "    <tr>\n",
       "      <th class=\"blank level0\" >&nbsp;</th>\n",
       "      <th id=\"T_19a7d_level0_col0\" class=\"col_heading level0 col0\" >release_year</th>\n",
       "      <th id=\"T_19a7d_level0_col1\" class=\"col_heading level0 col1\" >title</th>\n",
       "    </tr>\n",
       "  </thead>\n",
       "  <tbody>\n",
       "    <tr>\n",
       "      <th id=\"T_19a7d_level0_row0\" class=\"row_heading level0 row0\" >1</th>\n",
       "      <td id=\"T_19a7d_row0_col0\" class=\"data row0 col0\" >2022</td>\n",
       "      <td id=\"T_19a7d_row0_col1\" class=\"data row0 col1\" >Incantation</td>\n",
       "    </tr>\n",
       "    <tr>\n",
       "      <th id=\"T_19a7d_level0_row1\" class=\"row_heading level0 row1\" >2</th>\n",
       "      <td id=\"T_19a7d_row1_col0\" class=\"data row1 col0\" >2021</td>\n",
       "      <td id=\"T_19a7d_row1_col1\" class=\"data row1 col1\" >Sing 2</td>\n",
       "    </tr>\n",
       "    <tr>\n",
       "      <th id=\"T_19a7d_level0_row2\" class=\"row_heading level0 row2\" >3</th>\n",
       "      <td id=\"T_19a7d_row2_col0\" class=\"data row2 col0\" >2020</td>\n",
       "      <td id=\"T_19a7d_row2_col1\" class=\"data row2 col1\" >After We Collided</td>\n",
       "    </tr>\n",
       "    <tr>\n",
       "      <th id=\"T_19a7d_level0_row3\" class=\"row_heading level0 row3\" >4</th>\n",
       "      <td id=\"T_19a7d_row3_col0\" class=\"data row3 col0\" >2019</td>\n",
       "      <td id=\"T_19a7d_row3_col1\" class=\"data row3 col1\" >After</td>\n",
       "    </tr>\n",
       "    <tr>\n",
       "      <th id=\"T_19a7d_level0_row4\" class=\"row_heading level0 row4\" >5</th>\n",
       "      <td id=\"T_19a7d_row4_col0\" class=\"data row4 col0\" >2018</td>\n",
       "      <td id=\"T_19a7d_row4_col1\" class=\"data row4 col1\" >To All the Boys I've Loved Before</td>\n",
       "    </tr>\n",
       "    <tr>\n",
       "      <th id=\"T_19a7d_level0_row5\" class=\"row_heading level0 row5\" >6</th>\n",
       "      <td id=\"T_19a7d_row5_col0\" class=\"data row5 col0\" >2017</td>\n",
       "      <td id=\"T_19a7d_row5_col1\" class=\"data row5 col1\" >The Shack</td>\n",
       "    </tr>\n",
       "    <tr>\n",
       "      <th id=\"T_19a7d_level0_row6\" class=\"row_heading level0 row6\" >7</th>\n",
       "      <td id=\"T_19a7d_row6_col0\" class=\"data row6 col0\" >2016</td>\n",
       "      <td id=\"T_19a7d_row6_col1\" class=\"data row6 col1\" >The Conjuring 2</td>\n",
       "    </tr>\n",
       "    <tr>\n",
       "      <th id=\"T_19a7d_level0_row7\" class=\"row_heading level0 row7\" >8</th>\n",
       "      <td id=\"T_19a7d_row7_col0\" class=\"data row7 col0\" >2015</td>\n",
       "      <td id=\"T_19a7d_row7_col1\" class=\"data row7 col1\" >Legend</td>\n",
       "    </tr>\n",
       "    <tr>\n",
       "      <th id=\"T_19a7d_level0_row8\" class=\"row_heading level0 row8\" >9</th>\n",
       "      <td id=\"T_19a7d_row8_col0\" class=\"data row8 col0\" >2014</td>\n",
       "      <td id=\"T_19a7d_row8_col1\" class=\"data row8 col1\" >How to Train Your Dragon 2</td>\n",
       "    </tr>\n",
       "    <tr>\n",
       "      <th id=\"T_19a7d_level0_row9\" class=\"row_heading level0 row9\" >10</th>\n",
       "      <td id=\"T_19a7d_row9_col0\" class=\"data row9 col0\" >2013</td>\n",
       "      <td id=\"T_19a7d_row9_col1\" class=\"data row9 col1\" >The Conjuring</td>\n",
       "    </tr>\n",
       "  </tbody>\n",
       "</table>\n"
      ],
      "text/plain": [
       "<pandas.io.formats.style.Styler at 0x1d6e9265310>"
      ]
     },
     "execution_count": 25,
     "metadata": {},
     "output_type": "execute_result"
    }
   ],
   "source": [
    "df_sorted_m = df_movies_popularity.sort_values(by='tmdb_popularity', ascending=False)\n",
    "df_grouped_m = df_sorted_m.groupby('release_year').first().reset_index()\n",
    "df_grouped_m = df_grouped_m[['release_year', 'title']]\n",
    "df_grouped_m = df_grouped_m.sort_values(by='release_year', ascending=False)\n",
    "df_grouped_m.index = np.arange(1, len(df_grouped_m) + 1)\n",
    "df_grouped_m = df_grouped_m.head(10).style.set_caption(\"MOST POPULAR MOVIES OF LAST 10 YEARS\").set_properties(**{\"font-size\" : \"14px\", \"color\": \"#000\", \"border\": \"1px solid black\"})\n",
    "df_grouped_m"
   ]
  },
  {
   "cell_type": "code",
   "execution_count": 26,
   "id": "bba07767",
   "metadata": {},
   "outputs": [
    {
     "data": {
      "text/html": [
       "<style type=\"text/css\">\n",
       "#T_4ce62_row0_col0, #T_4ce62_row0_col1, #T_4ce62_row1_col0, #T_4ce62_row1_col1, #T_4ce62_row2_col0, #T_4ce62_row2_col1, #T_4ce62_row3_col0, #T_4ce62_row3_col1, #T_4ce62_row4_col0, #T_4ce62_row4_col1, #T_4ce62_row5_col0, #T_4ce62_row5_col1, #T_4ce62_row6_col0, #T_4ce62_row6_col1, #T_4ce62_row7_col0, #T_4ce62_row7_col1, #T_4ce62_row8_col0, #T_4ce62_row8_col1, #T_4ce62_row9_col0, #T_4ce62_row9_col1 {\n",
       "  font-size: 14px;\n",
       "  color: #000;\n",
       "  border: 1px solid black;\n",
       "}\n",
       "</style>\n",
       "<table id=\"T_4ce62\">\n",
       "  <caption>MOST POPULAR TV SHOWS OF LAST 10 YEARS</caption>\n",
       "  <thead>\n",
       "    <tr>\n",
       "      <th class=\"blank level0\" >&nbsp;</th>\n",
       "      <th id=\"T_4ce62_level0_col0\" class=\"col_heading level0 col0\" >release_year</th>\n",
       "      <th id=\"T_4ce62_level0_col1\" class=\"col_heading level0 col1\" >title</th>\n",
       "    </tr>\n",
       "  </thead>\n",
       "  <tbody>\n",
       "    <tr>\n",
       "      <th id=\"T_4ce62_level0_row0\" class=\"row_heading level0 row0\" >1</th>\n",
       "      <td id=\"T_4ce62_row0_col0\" class=\"data row0 col0\" >2022</td>\n",
       "      <td id=\"T_4ce62_row0_col1\" class=\"data row0 col1\" >Resident Evil</td>\n",
       "    </tr>\n",
       "    <tr>\n",
       "      <th id=\"T_4ce62_level0_row1\" class=\"row_heading level0 row1\" >2</th>\n",
       "      <td id=\"T_4ce62_row1_col0\" class=\"data row1 col0\" >2021</td>\n",
       "      <td id=\"T_4ce62_row1_col1\" class=\"data row1 col1\" >Money Heist: From Tokyo to Berlin</td>\n",
       "    </tr>\n",
       "    <tr>\n",
       "      <th id=\"T_4ce62_level0_row2\" class=\"row_heading level0 row2\" >3</th>\n",
       "      <td id=\"T_4ce62_row2_col0\" class=\"data row2 col0\" >2020</td>\n",
       "      <td id=\"T_4ce62_row2_col1\" class=\"data row2 col1\" >Control Z</td>\n",
       "    </tr>\n",
       "    <tr>\n",
       "      <th id=\"T_4ce62_level0_row3\" class=\"row_heading level0 row3\" >4</th>\n",
       "      <td id=\"T_4ce62_row3_col0\" class=\"data row3 col0\" >2019</td>\n",
       "      <td id=\"T_4ce62_row3_col1\" class=\"data row3 col1\" >The Umbrella Academy</td>\n",
       "    </tr>\n",
       "    <tr>\n",
       "      <th id=\"T_4ce62_level0_row4\" class=\"row_heading level0 row4\" >5</th>\n",
       "      <td id=\"T_4ce62_row4_col0\" class=\"data row4 col0\" >2018</td>\n",
       "      <td id=\"T_4ce62_row4_col1\" class=\"data row4 col1\" >Cobra Kai</td>\n",
       "    </tr>\n",
       "    <tr>\n",
       "      <th id=\"T_4ce62_level0_row5\" class=\"row_heading level0 row5\" >6</th>\n",
       "      <td id=\"T_4ce62_row5_col0\" class=\"data row5 col0\" >2017</td>\n",
       "      <td id=\"T_4ce62_row5_col1\" class=\"data row5 col1\" >Riverdale</td>\n",
       "    </tr>\n",
       "    <tr>\n",
       "      <th id=\"T_4ce62_level0_row6\" class=\"row_heading level0 row6\" >7</th>\n",
       "      <td id=\"T_4ce62_row6_col0\" class=\"data row6 col0\" >2016</td>\n",
       "      <td id=\"T_4ce62_row6_col1\" class=\"data row6 col1\" >Stranger Things</td>\n",
       "    </tr>\n",
       "    <tr>\n",
       "      <th id=\"T_4ce62_level0_row7\" class=\"row_heading level0 row7\" >8</th>\n",
       "      <td id=\"T_4ce62_row7_col0\" class=\"data row7 col0\" >2015</td>\n",
       "      <td id=\"T_4ce62_row7_col1\" class=\"data row7 col1\" >Better Call Saul</td>\n",
       "    </tr>\n",
       "    <tr>\n",
       "      <th id=\"T_4ce62_level0_row8\" class=\"row_heading level0 row8\" >9</th>\n",
       "      <td id=\"T_4ce62_row8_col0\" class=\"data row8 col0\" >2014</td>\n",
       "      <td id=\"T_4ce62_row8_col1\" class=\"data row8 col1\" >The Flash</td>\n",
       "    </tr>\n",
       "    <tr>\n",
       "      <th id=\"T_4ce62_level0_row9\" class=\"row_heading level0 row9\" >10</th>\n",
       "      <td id=\"T_4ce62_row9_col0\" class=\"data row9 col0\" >2013</td>\n",
       "      <td id=\"T_4ce62_row9_col1\" class=\"data row9 col1\" >Peaky Blinders</td>\n",
       "    </tr>\n",
       "  </tbody>\n",
       "</table>\n"
      ],
      "text/plain": [
       "<pandas.io.formats.style.Styler at 0x1d6e92caca0>"
      ]
     },
     "execution_count": 26,
     "metadata": {},
     "output_type": "execute_result"
    }
   ],
   "source": [
    "df_sorted_s = df_show_popularity.sort_values(by='tmdb_popularity', ascending=False)\n",
    "df_grouped_s = df_sorted_s.groupby('release_year').first().reset_index()\n",
    "df_grouped_s = df_grouped_s[['release_year', 'title']]\n",
    "df_grouped_s = df_grouped_s.sort_values(by='release_year', ascending=False)\n",
    "df_grouped_s.index = np.arange(1, len(df_grouped_s) + 1)\n",
    "df_grouped_s = df_grouped_s.head(10).style.set_caption(\"MOST POPULAR TV SHOWS OF LAST 10 YEARS\").set_properties(**{\"font-size\" : \"14px\", \"color\": \"#000\", \"border\": \"1px solid black\"})\n",
    "df_grouped_s"
   ]
  },
  {
   "cell_type": "code",
   "execution_count": 27,
   "id": "1ec45cb0",
   "metadata": {},
   "outputs": [
    {
     "data": {
      "image/png": "[encoded data removed]",
      "text/plain": [
       "<Figure size 1500x500 with 2 Axes>"
      ]
     },
     "metadata": {},
     "output_type": "display_data"
    }
   ],
   "source": [
    "fig, ax = plt.subplots(1,1, figsize=(15,5))\n",
    "sns.heatmap(df.corr(), annot=True).set_title(\"Correlation\")\n",
    "plt.xticks(rotation=90)\n",
    "plt.tight_layout(pad=1.0, w_pad=1.0, h_pad=1.0)\n",
    "plt.show(block=True)"
   ]
  }
 ],
 "metadata": {
  "kernelspec": {
   "display_name": "Python 3 (ipykernel)",
   "language": "python",
   "name": "python3"
  },
  "language_info": {
   "codemirror_mode": {
    "name": "ipython",
    "version": 3
   },
   "file_extension": ".py",
   "mimetype": "text/x-python",
   "name": "python",
   "nbconvert_exporter": "python",
   "pygments_lexer": "ipython3",
   "version": "3.9.13"
  }
 },
 "nbformat": 4,
 "nbformat_minor": 5
}
